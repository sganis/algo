{
 "cells": [
  {
   "cell_type": "code",
   "execution_count": 33,
   "id": "2186802b",
   "metadata": {},
   "outputs": [
    {
     "ename": "ModuleNotFoundError",
     "evalue": "No module named 'matplotlib'",
     "output_type": "error",
     "traceback": [
      "\u001b[1;31m---------------------------------------------------------------------------\u001b[0m",
      "\u001b[1;31mModuleNotFoundError\u001b[0m                       Traceback (most recent call last)",
      "Input \u001b[1;32mIn [33]\u001b[0m, in \u001b[0;36m<cell line: 3>\u001b[1;34m()\u001b[0m\n\u001b[0;32m      1\u001b[0m \u001b[38;5;28;01mimport\u001b[39;00m \u001b[38;5;21;01mstruct\u001b[39;00m\n\u001b[0;32m      2\u001b[0m \u001b[38;5;28;01mimport\u001b[39;00m \u001b[38;5;21;01mdatetime\u001b[39;00m\n\u001b[1;32m----> 3\u001b[0m \u001b[38;5;28;01mimport\u001b[39;00m \u001b[38;5;21;01mmatplotlib\u001b[39;00m\u001b[38;5;21;01m.\u001b[39;00m\u001b[38;5;21;01mpyplot\u001b[39;00m \u001b[38;5;28;01mas\u001b[39;00m \u001b[38;5;21;01mplt\u001b[39;00m\n\u001b[0;32m      4\u001b[0m OLE_TIME_ZERO \u001b[38;5;241m=\u001b[39m datetime\u001b[38;5;241m.\u001b[39mdatetime(\u001b[38;5;241m1899\u001b[39m, \u001b[38;5;241m12\u001b[39m, \u001b[38;5;241m30\u001b[39m, \u001b[38;5;241m0\u001b[39m, \u001b[38;5;241m0\u001b[39m, \u001b[38;5;241m0\u001b[39m)\n\u001b[0;32m      6\u001b[0m \u001b[38;5;28;01mdef\u001b[39;00m \u001b[38;5;21mole2datetime\u001b[39m(oledt):\n",
      "\u001b[1;31mModuleNotFoundError\u001b[0m: No module named 'matplotlib'"
     ]
    }
   ],
   "source": [
    "import struct\n",
    "import datetime\n",
    "import matplotlib.pyplot as plt\n",
    "OLE_TIME_ZERO = datetime.datetime(1899, 12, 30, 0, 0, 0)\n",
    "\n",
    "def ole2datetime(oledt):\n",
    "    return (OLE_TIME_ZERO + datetime.timedelta(days=float(oledt))).date()"
   ]
  },
  {
   "cell_type": "code",
   "execution_count": 21,
   "id": "143b42a5",
   "metadata": {},
   "outputs": [],
   "source": [
    "# typedef struct T6\n",
    "# {\n",
    "#   DATE  time; // UTC timestamp of the close, DATE format\n",
    "#   float fHigh,fLow;\t\n",
    "#   float fOpen,fClose;\t\n",
    "#   float fVal,fVol; // additional data, ask-bid spread, volume etc.\n",
    "# } T6;\n"
   ]
  },
  {
   "cell_type": "code",
   "execution_count": null,
   "id": "8468566a",
   "metadata": {},
   "outputs": [],
   "source": [
    "!pip install matplotlib numpy pandas"
   ]
  },
  {
   "cell_type": "code",
   "execution_count": null,
   "id": "b3ce946e",
   "metadata": {},
   "outputs": [],
   "source": [
    "rsize = 8 + 4 * 6\n",
    "print('DATE,HIGH,LOW,OPEN,CLOSE,VAL,VOL')\n",
    "with open(\"data\\\\AAPL.t6\", \"rb\") as f:\n",
    "    rec = f.read(rsize)\n",
    "    data = struct.unpack (\"dffffff\", rec)\n",
    "    print(f'{ole2datetime(data[0])},{\",\".join([str(x) for x in data[1:-3]])}')\n",
    "    while rec:\n",
    "        rec = f.read(rsize)\n",
    "        data = struct.unpack (\"dffffff\", rec)\n",
    "        print(f'{ole2datetime(data[0])},{\",\".join([str(x) for x in data[1:]])}')\n",
    "    "
   ]
  },
  {
   "cell_type": "code",
   "execution_count": 28,
   "id": "d5601ea8",
   "metadata": {},
   "outputs": [
    {
     "data": {
      "text/plain": [
       "(146.63999938964844,\n",
       " 143.77999877929688,\n",
       " 145.6699981689453,\n",
       " 144.8699951171875,\n",
       " 0.0,\n",
       " 144.8699951171875)"
      ]
     },
     "execution_count": 28,
     "metadata": {},
     "output_type": "execute_result"
    }
   ],
   "source": [
    "data[1:]"
   ]
  },
  {
   "cell_type": "code",
   "execution_count": null,
   "id": "e8e54f55",
   "metadata": {},
   "outputs": [],
   "source": []
  }
 ],
 "metadata": {
  "kernelspec": {
   "display_name": "Python 3 (ipykernel)",
   "language": "python",
   "name": "python3"
  },
  "language_info": {
   "codemirror_mode": {
    "name": "ipython",
    "version": 3
   },
   "file_extension": ".py",
   "mimetype": "text/x-python",
   "name": "python",
   "nbconvert_exporter": "python",
   "pygments_lexer": "ipython3",
   "version": "3.10.5"
  }
 },
 "nbformat": 4,
 "nbformat_minor": 5
}
