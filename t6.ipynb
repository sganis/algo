{
 "cells": [
  {
   "cell_type": "code",
   "execution_count": 54,
   "id": "ae4e9501",
   "metadata": {},
   "outputs": [],
   "source": [
    "import struct\n",
    "import datetime\n",
    "import numpy as np\n",
    "import matplotlib.pyplot as plt\n",
    "\n",
    "OLE_TIME_ZERO = datetime.datetime(1899, 12, 30, 0, 0, 0)\n",
    "\n",
    "def ole2datetime(oledt):\n",
    "    return (OLE_TIME_ZERO + datetime.timedelta(days=float(oledt))).date()"
   ]
  },
  {
   "cell_type": "code",
   "execution_count": 55,
   "id": "1241040a",
   "metadata": {},
   "outputs": [],
   "source": [
    "# typedef struct T6\n",
    "# {\n",
    "#   DATE  time; // UTC timestamp of the close, DATE format\n",
    "#   float fHigh,fLow;\t\n",
    "#   float fOpen,fClose;\t\n",
    "#   float fVal,fVol; // additional data, ask-bid spread, volume etc.\n",
    "# } T6;\n"
   ]
  },
  {
   "cell_type": "code",
   "execution_count": 56,
   "id": "31c403c8",
   "metadata": {},
   "outputs": [
    {
     "name": "stdout",
     "output_type": "stream",
     "text": [
      "DATE,HIGH,LOW,OPEN,CLOSE\n"
     ]
    }
   ],
   "source": [
    "rsize = 8 + 4 * 6\n",
    "array = []\n",
    "print('DATE,HIGH,LOW,OPEN,CLOSE')\n",
    "with open(\"data\\\\AAPL.t6\", \"rb\") as f:\n",
    "    rec = f.read(rsize)\n",
    "    while rec:\n",
    "        data = struct.unpack (\"dffffff\", rec)\n",
    "        d = ole2datetime(data[0])\n",
    "        # print(f'{d},{\",\".join([f\"{x:.2f}\" for x in data[1:-2]])}')\n",
    "        rec = f.read(rsize)\n",
    "        array.append([d,data[4]])\n"
   ]
  },
  {
   "cell_type": "code",
   "execution_count": 61,
   "id": "c3810d7e",
   "metadata": {},
   "outputs": [
    {
     "data": {
      "text/plain": [
       "[<matplotlib.lines.Line2D at 0x176d3c0c400>]"
      ]
     },
     "execution_count": 61,
     "metadata": {},
     "output_type": "execute_result"
    },
    {
     "data": {
      "image/png": "[encoded data removed]",
      "text/plain": [
       "<Figure size 432x288 with 1 Axes>"
      ]
     },
     "metadata": {
      "needs_background": "light"
     },
     "output_type": "display_data"
    }
   ],
   "source": [
    "a = np.array(array)\n",
    "plt.plot(a[:,0],a[:,1])"
   ]
  },
  {
   "cell_type": "code",
   "execution_count": null,
   "id": "0c0d844a",
   "metadata": {},
   "outputs": [],
   "source": []
  },
  {
   "cell_type": "code",
   "execution_count": null,
   "id": "937cf8c9",
   "metadata": {},
   "outputs": [],
   "source": []
  }
 ],
 "metadata": {
  "kernelspec": {
   "display_name": "Python 3 (ipykernel)",
   "language": "python",
   "name": "python3"
  },
  "language_info": {
   "codemirror_mode": {
    "name": "ipython",
    "version": 3
   },
   "file_extension": ".py",
   "mimetype": "text/x-python",
   "name": "python",
   "nbconvert_exporter": "python",
   "pygments_lexer": "ipython3",
   "version": "3.10.5"
  }
 },
 "nbformat": 4,
 "nbformat_minor": 5
}
