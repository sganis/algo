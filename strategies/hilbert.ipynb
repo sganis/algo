{
 "cells": [
  {
   "cell_type": "code",
   "execution_count": 1,
   "id": "animated-opposition",
   "metadata": {},
   "outputs": [],
   "source": [
    "import numpy as np\n",
    "import pandas as pd\n",
    "import matplotlib.pyplot as plt\n",
    "import random as r\n",
    "\n",
    "\n",
    "\n",
    "r.seed(2)\n",
    "\n",
    "def random_walk(n):\n",
    "    x = np.arange(n + 1)\n",
    "    # y = np.array([random.choice([1,-1]) for i in range(0, n + 1)]).cumsum()\n",
    "    y = np.array([r.choice([0, 1, 1, 1, -1,-2]) \n",
    "                  for i in range(0, n + 1)]).cumsum()\n",
    "    return x, y\n",
    "\n",
    "x,y = random_walk(1000)"
   ]
  },
  {
   "cell_type": "code",
   "execution_count": null,
   "id": "forty-samuel",
   "metadata": {},
   "outputs": [],
   "source": [
    "class Price():\n",
    "    def __init__(self, x):\n",
    "        self.p = x\n",
    "    def __getitem__(self, i):\n",
    "        return self.p[-(i+1)]\n",
    "    def __repr__(self):\n",
    "        return str([i for i in self.p])"
   ]
  },
  {
   "cell_type": "code",
   "execution_count": 3,
   "id": "small-earth",
   "metadata": {},
   "outputs": [],
   "source": [
    "def hilbert_transform(P, Period):\n",
    "    assert len(P.p)>5\n",
    "    Smooth = (4*P[0]+3*P[1]+2*P[2]+P[3])/10\n",
    "    Detrender = (0.0962*Smooth + 0.5769*Smooth[2] \n",
    "                 - 0.5769*Smooth[4] - 0.0962*Smooth[6])*(0.075*Period[1]+0.54)\n",
    "    # compute InPhase and Quadrature components\n",
    "    Q1 = (.0962*Detrender[0] + .0569*Detrender[2]\n",
    "         - .5769*Detrender[4] - .0962*Detrender[6])* (.075*Period[1] + .54)\n",
    "    I1 = Detrender[3]\n",
    "    # advance the phase of I1 and Q1 by 90 degrees\n",
    "    jI = (.0962*I1[0] + .5769*I1[2] - .5769*I1[4]\n",
    "         - .0962*I1[6]) * (.075*Period[1] + .54)\n",
    "    jQ = (.0962*Q1[0] + .5769*Q1[2] - .5769*Q1[4]\n",
    "         - .0962*Q1[6]) * (.075*Period[1] + .54)\n",
    "    # phasor addition ofr 3 bar averaging\n",
    "    I2 = I1 - jQ\n",
    "    Q2 = Q1 - jI\n",
    "    #smooth the I and Q components before applying the discriminator\n",
    "    I2 = .2*I2[0] + .8*I2[1]\n",
    "    Q2 = .2*Q2[0] + .8*Q2[1]\n",
    "    # homodyne discriminator\n",
    "    Re = I2[0]*I2[1] + Q2[0]*Q2[1]\n",
    "    Im = I2[0]*Q2[1] - Q2[0]*I2[1]\n",
    "    Im = .2*Im[0] + .8*Im[1]\n",
    "    if Im != 0 and Re != 0:\n",
    "        Period[0] = 360/np.atan(Im/Re)\n",
    "    \n",
    "    \n"
   ]
  },
  {
   "cell_type": "code",
   "execution_count": null,
   "id": "experienced-steel",
   "metadata": {},
   "outputs": [],
   "source": []
  }
 ],
 "metadata": {
  "kernelspec": {
   "display_name": "Python 3",
   "language": "python",
   "name": "python3"
  },
  "language_info": {
   "codemirror_mode": {
    "name": "ipython",
    "version": 3
   },
   "file_extension": ".py",
   "mimetype": "text/x-python",
   "name": "python",
   "nbconvert_exporter": "python",
   "pygments_lexer": "ipython3",
   "version": "3.8.2"
  }
 },
 "nbformat": 4,
 "nbformat_minor": 5
}
