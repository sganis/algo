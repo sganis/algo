{
 "cells": [
  {
   "cell_type": "code",
   "execution_count": 19,
   "id": "functioning-xerox",
   "metadata": {},
   "outputs": [],
   "source": [
    "class Price():\n",
    "    def __init__(self, x):\n",
    "        self.p = x\n",
    "    def __getitem__(self, i):\n",
    "        return self.p[-(i+1)]\n",
    "    def __repr__(self):\n",
    "        return str([i for i in self.p])"
   ]
  },
  {
   "cell_type": "code",
   "execution_count": 20,
   "id": "heated-waters",
   "metadata": {},
   "outputs": [
    {
     "name": "stdout",
     "output_type": "stream",
     "text": [
      "[0, 1, 2, 3, 4, 5, 6, 7, 8, 9]\n"
     ]
    }
   ],
   "source": [
    "x = [i for i in range(10)]\n",
    "print(x)\n",
    "p = Price(x)"
   ]
  },
  {
   "cell_type": "code",
   "execution_count": 22,
   "id": "junior-secretary",
   "metadata": {},
   "outputs": [
    {
     "data": {
      "text/plain": [
       "[0, 1, 2, 3, 4, 5, 6, 7, 8, 9]"
      ]
     },
     "execution_count": 22,
     "metadata": {},
     "output_type": "execute_result"
    }
   ],
   "source": [
    "p"
   ]
  },
  {
   "cell_type": "code",
   "execution_count": null,
   "id": "expired-matthew",
   "metadata": {},
   "outputs": [],
   "source": []
  },
  {
   "cell_type": "code",
   "execution_count": null,
   "id": "severe-exchange",
   "metadata": {},
   "outputs": [],
   "source": []
  }
 ],
 "metadata": {
  "kernelspec": {
   "display_name": "Python 3",
   "language": "python",
   "name": "python3"
  },
  "language_info": {
   "codemirror_mode": {
    "name": "ipython",
    "version": 3
   },
   "file_extension": ".py",
   "mimetype": "text/x-python",
   "name": "python",
   "nbconvert_exporter": "python",
   "pygments_lexer": "ipython3",
   "version": "3.8.2"
  }
 },
 "nbformat": 4,
 "nbformat_minor": 5
}
