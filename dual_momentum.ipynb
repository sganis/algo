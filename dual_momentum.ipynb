{
 "cells": [
  {
   "cell_type": "code",
   "execution_count": 46,
   "id": "american-speaking",
   "metadata": {},
   "outputs": [],
   "source": [
    "import numpy as np\n",
    "import pandas as pd\n",
    "import matplotlib.pyplot as plt\n",
    "import pandas_datareader as pdr\n",
    "from datetime import datetime\n",
    "\n",
    "start=datetime(2021, 1, 1)\n",
    "end = datetime.today()\n",
    "voo = pdr.get_data_yahoo(symbols='VOO', start=start, end=end).reset_index()\n",
    "vt  = pdr.get_data_yahoo(symbols='VT', start=start, end=end).reset_index()\n",
    "bsv = pdr.get_data_yahoo(symbols='BSV', start=start, end=end).reset_index()"
   ]
  },
  {
   "cell_type": "code",
   "execution_count": 47,
   "id": "legendary-mixer",
   "metadata": {},
   "outputs": [
    {
     "name": "stdout",
     "output_type": "stream",
     "text": [
      "-0.10842067986853976 -0.16016906525737162 -0.04841452939172841\n"
     ]
    }
   ],
   "source": [
    "vo_p = voo.iloc[-1,6]/voo.iloc[-252,6]-1\n",
    "vt_p = vt.iloc[-1,6]/vt.iloc[-252,6]-1\n",
    "bs_p = bsv.iloc[-1,6]/bsv.iloc[-252,6]-1\n",
    "print(vo_p, vt_p, bs_p)"
   ]
  },
  {
   "cell_type": "code",
   "execution_count": 50,
   "id": "sustainable-blink",
   "metadata": {},
   "outputs": [
    {
     "name": "stdout",
     "output_type": "stream",
     "text": [
      "2022-07-03\n",
      "CASH\n"
     ]
    }
   ],
   "source": [
    "print(end.date())\n",
    "if vo_p < bs_p:\n",
    "    print('CASH')\n",
    "else:\n",
    "    if vo_p > vt_p:\n",
    "        print('VOO')\n",
    "    else:\n",
    "        print('VT')"
   ]
  },
  {
   "cell_type": "code",
   "execution_count": null,
   "id": "novel-wound",
   "metadata": {},
   "outputs": [],
   "source": []
  }
 ],
 "metadata": {
  "kernelspec": {
   "display_name": "Python 3",
   "language": "python",
   "name": "python3"
  },
  "language_info": {
   "codemirror_mode": {
    "name": "ipython",
    "version": 3
   },
   "file_extension": ".py",
   "mimetype": "text/x-python",
   "name": "python",
   "nbconvert_exporter": "python",
   "pygments_lexer": "ipython3",
   "version": "3.8.2"
  }
 },
 "nbformat": 4,
 "nbformat_minor": 5
}
